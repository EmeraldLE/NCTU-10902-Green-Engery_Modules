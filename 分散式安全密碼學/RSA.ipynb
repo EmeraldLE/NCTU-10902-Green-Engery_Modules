{
 "cells": [
  {
   "cell_type": "code",
   "execution_count": 4,
   "metadata": {
    "scrolled": true
   },
   "outputs": [
    {
     "name": "stdout",
     "output_type": "stream",
     "text": [
      "Gcd:  4\n",
      "Lcm:  381039471778219791536880\n",
      "x:  1\n",
      "d: 54434210254031398790983\n",
      "e: 7\n",
      "1\n",
      "M: 128451959143346054215324\n",
      "C: 309833027\n"
     ]
    }
   ],
   "source": [
    "p=1234567897777\n",
    "q=1234567892021\n",
    "M=p*q\n",
    "e=7\n",
    "c=309833027\n",
    "\n",
    "def gcd(m, n):\n",
    "    return m if n == 0 else gcd(n, m % n)\n",
    "\n",
    "def lcm(m, n):\n",
    "    return m * n // gcd(m, n)\n",
    "    \n",
    "print(\"Gcd: \", gcd((p-1), (q-1)))\n",
    "print(\"Lcm: \", lcm((p-1), (q-1)))\n",
    "print(\"x: \", gcd(e, lcm((p-1), (q-1))))\n",
    "d=pow(e,-1,lcm((p-1), (q-1)))\n",
    "print(\"d:\",d)\n",
    "\n",
    "a=pow(d,-1,lcm((p-1), (q-1)))\n",
    "print(\"e:\",a)\n",
    "print(pow((d*a),-1,lcm((p-1), (q-1))))\n",
    "\n",
    "ans=pow(c,d,M)\n",
    "print(\"M:\",ans)\n",
    "con=pow(ans,e,M)\n",
    "print(\"C:\",con)"
   ]
  },
  {
   "cell_type": "code",
   "execution_count": 62,
   "metadata": {},
   "outputs": [
    {
     "name": "stdout",
     "output_type": "stream",
     "text": [
      "Gcd:  4\n",
      "Lcm:  381039471778219791536880\n",
      "d: 54434210254031398790983\n",
      "1\n",
      "M: 128451959143346054215324\n",
      "C: 309833027\n"
     ]
    }
   ],
   "source": [
    "p=1234567897777\n",
    "q=1234567892021\n",
    "M=p*q\n",
    "e=7\n",
    "c=309833027\n",
    "\n",
    "def gcd(m, n):\n",
    "    return m if n == 0 else gcd(n, m % n)\n",
    "\n",
    "def lcm(m, n):\n",
    "    return m * n // gcd(m, n)\n",
    "    \n",
    "print(\"Gcd: \", gcd((p-1), (q-1)))\n",
    "print(\"Lcm: \", lcm((p-1), (q-1)))\n",
    "\n",
    "\n",
    "d=pow(e,-1,lcm((p-1), (q-1)))\n",
    "print(\"d:\",d)\n",
    "print((d*e)%lcm((p-1), (q-1)))\n",
    "ans=pow(c,d,M)\n",
    "print(\"M:\",ans)\n",
    "con=pow(ans,e,M)\n",
    "print(\"C:\",con)"
   ]
  }
 ],
 "metadata": {
  "kernelspec": {
   "display_name": "Python 3",
   "language": "python",
   "name": "python3"
  },
  "language_info": {
   "codemirror_mode": {
    "name": "ipython",
    "version": 3
   },
   "file_extension": ".py",
   "mimetype": "text/x-python",
   "name": "python",
   "nbconvert_exporter": "python",
   "pygments_lexer": "ipython3",
   "version": "3.8.5"
  }
 },
 "nbformat": 4,
 "nbformat_minor": 4
}
