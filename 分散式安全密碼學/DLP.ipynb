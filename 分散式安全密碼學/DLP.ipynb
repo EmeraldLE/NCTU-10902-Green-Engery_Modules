{
 "cells": [
  {
   "cell_type": "code",
   "execution_count": null,
   "metadata": {},
   "outputs": [],
   "source": [
    "x,g,p= map(int, input().split(' '))\n",
    "\n",
    "def prover(x, g, p):\n",
    "  C = 777\n",
    "  e=yield C\n",
    "  t=8787\n",
    "  yield t\n",
    "\n",
    "def verifier(C, g, p):\n",
    "  t=yield e\n",
    "  accept = 1\n",
    "  yield accept\n",
    "\n",
    "x, g, p = 123, 45, 6\n",
    "P = prover(x, g, p)\n",
    "C = next(P)\n",
    "V = verifier(C, g, p)\n",
    "e = next(V)\n",
    "t=P.send(e)\n",
    "accept = V.send(t)"
   ]
  },
  {
   "cell_type": "code",
   "execution_count": 21,
   "metadata": {},
   "outputs": [
    {
     "data": {
      "text/plain": [
       "[3, 2, 6, 4, 5, 1]"
      ]
     },
     "execution_count": 21,
     "metadata": {},
     "output_type": "execute_result"
    }
   ],
   "source": [
    "def generator_permutation(g,q):\n",
    "    return [pow(g,i,q) for i in range(1,q)]\n",
    "generator_permutation(3,7)"
   ]
  },
  {
   "cell_type": "code",
   "execution_count": 8,
   "metadata": {
    "scrolled": true
   },
   "outputs": [
    {
     "name": "stdout",
     "output_type": "stream",
     "text": [
      "輸入:sd\n"
     ]
    },
    {
     "data": {
      "text/plain": [
       "'sd'"
      ]
     },
     "execution_count": 8,
     "metadata": {},
     "output_type": "execute_result"
    }
   ],
   "source": [
    "import sys\n",
    "x=input(\"輸入:\")\n",
    "x"
   ]
  },
  {
   "cell_type": "code",
   "execution_count": 2,
   "metadata": {},
   "outputs": [
    {
     "name": "stdout",
     "output_type": "stream",
     "text": [
      "3\n",
      "4\n",
      "81\n"
     ]
    }
   ],
   "source": [
    "g=int(input())\n",
    "x=int(input())\n",
    "print(pow(g,x))"
   ]
  }
 ],
 "metadata": {
  "kernelspec": {
   "display_name": "Python 3",
   "language": "python",
   "name": "python3"
  },
  "language_info": {
   "codemirror_mode": {
    "name": "ipython",
    "version": 3
   },
   "file_extension": ".py",
   "mimetype": "text/x-python",
   "name": "python",
   "nbconvert_exporter": "python",
   "pygments_lexer": "ipython3",
   "version": "3.8.5"
  }
 },
 "nbformat": 4,
 "nbformat_minor": 4
}
