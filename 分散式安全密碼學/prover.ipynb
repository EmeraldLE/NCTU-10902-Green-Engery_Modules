{
 "cells": [
  {
   "cell_type": "code",
   "execution_count": 13,
   "metadata": {},
   "outputs": [
    {
     "name": "stdout",
     "output_type": "stream",
     "text": [
      "5 8 7\n",
      "C= 1\n",
      "10\n",
      "593\n"
     ]
    }
   ],
   "source": [
    "import sys\n",
    "x,g,p= map(int, input().split(' '))\n",
    "r=543\n",
    "\n",
    "print(\"C=\",pow(g,r,p))\n",
    "\n",
    "e=int(input())\n",
    "\n",
    "t=e*x+r\n",
    "print(t)"
   ]
  }
 ],
 "metadata": {
  "kernelspec": {
   "display_name": "Python 3",
   "language": "python",
   "name": "python3"
  },
  "language_info": {
   "codemirror_mode": {
    "name": "ipython",
    "version": 3
   },
   "file_extension": ".py",
   "mimetype": "text/x-python",
   "name": "python",
   "nbconvert_exporter": "python",
   "pygments_lexer": "ipython3",
   "version": "3.8.5"
  }
 },
 "nbformat": 4,
 "nbformat_minor": 4
}
