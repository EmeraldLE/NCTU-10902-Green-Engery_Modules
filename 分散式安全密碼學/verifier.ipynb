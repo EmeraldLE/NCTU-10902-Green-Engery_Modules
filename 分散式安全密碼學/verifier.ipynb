{
 "cells": [
  {
   "cell_type": "code",
   "execution_count": 5,
   "metadata": {},
   "outputs": [
    {
     "name": "stdout",
     "output_type": "stream",
     "text": [
      "32768 1 8 7\n",
      "10\n",
      "593\n",
      "1\n"
     ]
    }
   ],
   "source": [
    "import sys\n",
    "y,C,g,p= map(int, input().split(' '))\n",
    "\n",
    "e=10\n",
    "print(e)\n",
    "\n",
    "t=int(input())\n",
    "\n",
    "if(pow(g,t,p)==pow((pow(y,e)*C),1,p)):\n",
    "    result = 1\n",
    "else:\n",
    "    result = 0\n",
    "\n",
    "print(result)"
   ]
  }
 ],
 "metadata": {
  "kernelspec": {
   "display_name": "Python 3",
   "language": "python",
   "name": "python3"
  },
  "language_info": {
   "codemirror_mode": {
    "name": "ipython",
    "version": 3
   },
   "file_extension": ".py",
   "mimetype": "text/x-python",
   "name": "python",
   "nbconvert_exporter": "python",
   "pygments_lexer": "ipython3",
   "version": "3.8.5"
  }
 },
 "nbformat": 4,
 "nbformat_minor": 4
}
