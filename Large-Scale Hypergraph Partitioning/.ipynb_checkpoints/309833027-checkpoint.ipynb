{
 "cells": [
  {
   "cell_type": "code",
   "execution_count": 5,
   "metadata": {},
   "outputs": [],
   "source": [
    "def open_file(file_name):\n",
    "    file = open(file_name,\"r\")\n",
    "    input_data = file.readlines()\n",
    "    nodes = [] #all nodes\n",
    "    nets = [] #all nets\n",
    "    lines = len(input_data) #lines in file\n",
    "    \n",
    "    count = 1\n",
    "    s=\"\"\n",
    "    num=\"\"\n",
    "    gate = 0\n",
    "    gate_write = 0\n",
    "    gate_num = 0\n",
    "    \n",
    "    for i in range (1,lines-1):\n",
    "        gate = 1\n",
    "        if input_data[i][4] ==\"n\":\n",
    "            gate_num = 1\n",
    "            gate = 0\n",
    "        for j  in range(13,len(input_data[i])):\n",
    "            #print(j)\n",
    "            if input_data[i][j] ==\";\":\n",
    "                s = \"[\"+ str(s) + \"]\"\n",
    "                nets.insert(i-1,s)\n",
    "                nodes.append(count)\n",
    "                count +=1\n",
    "                s = \"\"\n",
    "                gate = 0\n",
    "            if input_data[i][j] == \"c\":\n",
    "                gate_write = 1\n",
    "            if gate_write == 1: \n",
    "                if input_data[i][j] == ' ':\n",
    "                    s = s + \",\"\n",
    "                    gate_write = 0\n",
    "                elif input_data[i][j] == '\\n':\n",
    "                    s = s + \",\"\n",
    "                    gate_write = 0\n",
    "                else:\n",
    "                    s = s + input_data[i][j]\n",
    "    return  nodes,nets "
   ]
  },
  {
   "cell_type": "code",
   "execution_count": 2,
   "metadata": {},
   "outputs": [],
   "source": [
    "def sep_group(G1,G2):\n",
    "    \n",
    "    for i in range(0,len(G1)):\n",
    "        a=G1[i]\n",
    "        for j in range(0,len(nets[a-1])):\n",
    "            if nets[a-1][j] == \",\":\n",
    "\n",
    "                if s not in G1_net:\n",
    "                    G1_net.append(s)\n",
    "               #else:\n",
    "                    #print(s)\n",
    "\n",
    "                s = \"\"\n",
    "            elif nets[a-1][j] == \"[\":\n",
    "                s = \"\"\n",
    "            else:\n",
    "                s = s + nets[a-1][j]\n",
    "    for i in range(0,len(G2)):\n",
    "        b=G2[i]\n",
    "        for j in range(0,len(nets[b-1])):\n",
    "            if nets[b-1][j] == \",\":\n",
    "\n",
    "                if s not in G2_net:\n",
    "                    G2_net.append(s)\n",
    "                #else:\n",
    "                    #print(s)\n",
    "                s = \"\"\n",
    "            elif nets[b-1][j] == \"[\":\n",
    "                s = \"\"\n",
    "            else:\n",
    "                s = s + nets[b-1][j]\n",
    "    #print(G1_net)\n",
    "    #print(G2_net)\n",
    "\n",
    "\n",
    "def cal_cost(G1,G2):\n",
    "    cost = 0\n",
    "    for i in range(0,len(G1)):\n",
    "        a=G1_net[i]\n",
    "        if a in G2_net:\n",
    "            #print(a,end=\" \")\n",
    "            cost += 1\n",
    "    #print(\" \\n Cut cost = \"+str(cost))  \n",
    "    return cost"
   ]
  },
  {
   "cell_type": "code",
   "execution_count": 3,
   "metadata": {},
   "outputs": [],
   "source": [
    "def exchange_node(i):\n",
    "    temp = G1[i]\n",
    "    G1[i] = G2[i]\n",
    "    G2[i] = temp"
   ]
  },
  {
   "cell_type": "code",
   "execution_count": null,
   "metadata": {
    "scrolled": true
   },
   "outputs": [
    {
     "name": "stdout",
     "output_type": "stream",
     "text": [
      "14605\n",
      "7302 7303\n",
      "0\n",
      "1\n",
      "2\n",
      "3\n",
      "4\n",
      "5\n",
      "6\n",
      "7\n",
      "8\n",
      "9\n",
      "10\n",
      "11\n",
      "12\n",
      "13\n",
      "14\n",
      "15\n",
      "16\n",
      "17\n",
      "18\n",
      "19\n"
     ]
    }
   ],
   "source": [
    "#print(nodes)\n",
    "file_name = 'case1.in' #input()\n",
    "nodes,nets = open_file(file_name)\n",
    "import random\n",
    "random.shuffle(nodes)\n",
    "nodes_num = len(nodes)//2\n",
    "G1=nodes[0:nodes_num]\n",
    "G2=nodes[nodes_num:]\n",
    "s=\"\"\n",
    "G1_net=[]\n",
    "G2_net=[]\n",
    "print(len(nodes))\n",
    "print(len(G1),len(G2))\n",
    "#print(G1,\"\\n\",G2)\n",
    "\n",
    "\n",
    "for i in range (0,nodes_num):\n",
    "    print(i)\n",
    "    sep_group(G1,G2) #first\n",
    "    old_cost = cal_cost(G1,G2) #first\n",
    "    #print(G1,\"\\n\",G2)\n",
    "\n",
    "    exchange_node(0)\n",
    "    #print(G1,\"\\n\",G2)\n",
    "    sep_group(G1,G2)\n",
    "    new_cost = cal_cost(G1,G2)\n",
    "\n",
    "    if old_cost < new_cost:\n",
    "        exchange_node(1)\n",
    "        print(\"44444\")\n",
    "\n",
    "print(\"final Cut cost = \"+ str(cost))"
   ]
  },
  {
   "cell_type": "code",
   "execution_count": null,
   "metadata": {},
   "outputs": [],
   "source": [
    "nets"
   ]
  },
  {
   "cell_type": "code",
   "execution_count": null,
   "metadata": {},
   "outputs": [],
   "source": [
    "len(nets)"
   ]
  },
  {
   "cell_type": "code",
   "execution_count": null,
   "metadata": {},
   "outputs": [],
   "source": [
    "nodes"
   ]
  },
  {
   "cell_type": "code",
   "execution_count": null,
   "metadata": {
    "scrolled": true
   },
   "outputs": [],
   "source": [
    "len(nodes)"
   ]
  },
  {
   "cell_type": "code",
   "execution_count": null,
   "metadata": {},
   "outputs": [],
   "source": [
    "print(input_data[i][13])"
   ]
  },
  {
   "cell_type": "code",
   "execution_count": null,
   "metadata": {},
   "outputs": [],
   "source": [
    "i=3\n",
    "j=13\n",
    "a=[]\n",
    "a.append(input_data[i][j]+input_data[i][j+1]+input_data[i][j+2]+input_data[i][j+3]+input_data[i][j+4]+input_data[i][j+5])\n",
    "j=20\n",
    "a.append(input_data[i][j]+input_data[i][j+1]+input_data[i][j+2]+input_data[i][j+3]+input_data[i][j+4]+input_data[i][j+5])\n",
    "b=input_data[i][j]+input_data[i][j+1]+input_data[i][j+2]+input_data[i][j+3]+input_data[i][j+4]+input_data[i][j+5]\n",
    "a.append(b)\n",
    "a"
   ]
  }
 ],
 "metadata": {
  "kernelspec": {
   "display_name": "Python 3",
   "language": "python",
   "name": "python3"
  },
  "language_info": {
   "codemirror_mode": {
    "name": "ipython",
    "version": 3
   },
   "file_extension": ".py",
   "mimetype": "text/x-python",
   "name": "python",
   "nbconvert_exporter": "python",
   "pygments_lexer": "ipython3",
   "version": "3.8.5"
  }
 },
 "nbformat": 4,
 "nbformat_minor": 4
}
